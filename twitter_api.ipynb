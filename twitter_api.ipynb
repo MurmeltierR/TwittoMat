{
 "metadata": {
  "language_info": {
   "codemirror_mode": {
    "name": "ipython",
    "version": 3
   },
   "file_extension": ".py",
   "mimetype": "text/x-python",
   "name": "python",
   "nbconvert_exporter": "python",
   "pygments_lexer": "ipython3",
   "version": "3.7.10"
  },
  "orig_nbformat": 2,
  "kernelspec": {
   "name": "python3710jvsc74a57bd0ed9352e93983b2ae8656a700cfafd0fde3eefdb013932bf295aa270a956c3db3",
   "display_name": "Python 3.7.10 64-bit ('ConsProj': conda)"
  }
 },
 "nbformat": 4,
 "nbformat_minor": 2,
 "cells": [
  {
   "cell_type": "code",
   "execution_count": 21,
   "metadata": {},
   "outputs": [
    {
     "output_type": "stream",
     "name": "stderr",
     "text": [
      "D:\\Programme\\envs\\ConsProj\\lib\\site-packages\\sklearn\\base.py:315: UserWarning: Trying to unpickle estimator TfidfTransformer from version 0.23.2 when using version 0.24.1. This might lead to breaking code or invalid results. Use at your own risk.\n  UserWarning)\nD:\\Programme\\envs\\ConsProj\\lib\\site-packages\\sklearn\\base.py:315: UserWarning: Trying to unpickle estimator TfidfVectorizer from version 0.23.2 when using version 0.24.1. This might lead to breaking code or invalid results. Use at your own risk.\n  UserWarning)\n"
     ]
    }
   ],
   "source": [
    "import streamlit as st\n",
    "import numpy as np\n",
    "import pandas as pd\n",
    "import json\n",
    "import datetime\n",
    "import time\n",
    "from tweepy import OAuthHandler, API, Stream, Cursor\n",
    "import base64\n",
    "import matplotlib.pyplot as plt\n",
    "from wordcloud import WordCloud, STOPWORDS, ImageColorGenerator\n",
    "from matplotlib import cm\n",
    "\n",
    "import encrypt\n",
    "import analytics"
   ]
  },
  {
   "cell_type": "code",
   "execution_count": 5,
   "metadata": {},
   "outputs": [],
   "source": [
    "creds = encrypt.decrypt_file('twitter.key', 'twitter_credentials.json')\n",
    "creds = json.loads(creds.decode('utf-8'))"
   ]
  },
  {
   "cell_type": "code",
   "execution_count": 6,
   "metadata": {},
   "outputs": [
    {
     "output_type": "execute_result",
     "data": {
      "text/plain": [
       "{'CONSUMER_KEY': 'ucVtuLEbZrEcUkiwxmNWLlQ2e',\n",
       " 'CONSUMER_SECRET': 'JmoGozTtBalpjNIOl8KPmtFYVdckJn9tBYYrgWxlzr3pa5VDxB',\n",
       " 'ACCESS_TOKEN': '1110252645313376261-1CZi8zvQYrvRSQq0U4sA8xGmKJXdzR',\n",
       " 'ACCESS_SECRET': 'IuCvb6sJMz4QyeJonKeNpV6eLKB7YhYbkIGlzDaJcQmK1'}"
      ]
     },
     "metadata": {},
     "execution_count": 6
    }
   ],
   "source": [
    "creds"
   ]
  },
  {
   "cell_type": "code",
   "execution_count": 7,
   "metadata": {},
   "outputs": [],
   "source": [
    "auth = OAuthHandler(creds['CONSUMER_KEY'], creds['CONSUMER_SECRET'])\n",
    "auth.set_access_token(creds['ACCESS_TOKEN'], creds['ACCESS_SECRET'])\n",
    "api_twitter = API(auth)"
   ]
  },
  {
   "cell_type": "code",
   "execution_count": 8,
   "metadata": {},
   "outputs": [
    {
     "output_type": "execute_result",
     "data": {
      "text/plain": [
       "<tweepy.api.API at 0x2852ef33e88>"
      ]
     },
     "metadata": {},
     "execution_count": 8
    }
   ],
   "source": [
    "api_twitter"
   ]
  },
  {
   "cell_type": "code",
   "execution_count": 22,
   "metadata": {},
   "outputs": [],
   "source": [
    "today = datetime.date.today()\n",
    "lastdays = today - datetime.timedelta(days=7)\n"
   ]
  },
  {
   "cell_type": "code",
   "execution_count": 23,
   "metadata": {},
   "outputs": [],
   "source": [
    "input_thema = 'covid'"
   ]
  },
  {
   "cell_type": "code",
   "execution_count": 14,
   "metadata": {},
   "outputs": [],
   "source": [
    "tweets = Cursor(api_twitter.search,q=\"#covid\",\n",
    "                           lang=\"de\",\n",
    "                           since=\"2021-05-01\").items(50)"
   ]
  },
  {
   "cell_type": "code",
   "execution_count": 24,
   "metadata": {},
   "outputs": [],
   "source": [
    "tweets = Cursor(api_twitter.search, \n",
    "            q=input_thema, \n",
    "            since=lastdays, \n",
    "            until=today, \n",
    "            lang=\"de\").items(50)"
   ]
  },
  {
   "cell_type": "code",
   "execution_count": 25,
   "metadata": {},
   "outputs": [
    {
     "output_type": "execute_result",
     "data": {
      "text/plain": [
       "<tweepy.cursor.ItemIterator at 0x2852e924c48>"
      ]
     },
     "metadata": {},
     "execution_count": 25
    }
   ],
   "source": [
    "tweets"
   ]
  },
  {
   "cell_type": "code",
   "execution_count": 26,
   "metadata": {},
   "outputs": [],
   "source": [
    "    tweets_list = [[tweet.text, \n",
    "         tweet.created_at, \n",
    "         tweet.id_str,             \n",
    "         tweet.favorite_count, \n",
    "         tweet.retweet_count,\n",
    "         [hashtag['text'] for hashtag in tweet.entities['hashtags']],\n",
    "         tweet.user.screen_name,\n",
    "         tweet.user.id_str, \n",
    "         tweet.user.location, \n",
    "         tweet.user.followers_count, \n",
    "         tweet.coordinates, \n",
    "         tweet.place] for tweet in tweets]"
   ]
  },
  {
   "cell_type": "code",
   "execution_count": 27,
   "metadata": {},
   "outputs": [],
   "source": [
    "cols = ['text', 'created_at', 'id', 'likes', 'retweets', 'hashtags', 'user_screen_name', 'user_id', \n",
    "         'user_location', 'user_followers', 'coordinates', 'place']"
   ]
  },
  {
   "cell_type": "code",
   "execution_count": 28,
   "metadata": {},
   "outputs": [],
   "source": [
    "df = pd.DataFrame(tweets_list, columns = cols)"
   ]
  },
  {
   "cell_type": "code",
   "execution_count": null,
   "metadata": {},
   "outputs": [],
   "source": []
  }
 ]
}